{
 "cells": [
  {
   "cell_type": "markdown",
   "metadata": {},
   "source": [
    "\n",
    "\n",
    "##############################################################################################\n",
    "### EGGS - Entropy of Gene Group Shuffling - Jupyter Notebook Analysis Pipeline.\n",
    "###       - Version v1.0.0.\n",
    "##############################################################################################\n",
    "### Cite the following pre-print (or follow-up publication associated with it):\n",
    "###    Chromosome-scale scaffolding of the fungus gnat genome (Diptera: Bradysia coprophila)\n",
    "###    John M. Urban, Susan A. Gerbi, Allan C. Spradling\n",
    "###    bioRxiv 2022.11.03.515061; doi: https://doi.org/10.1101/2022.11.03.515061\n",
    "##############################################################################################\n",
    "### The first published version, used in the published paper, is part of the code section of:\n",
    "###   - https://github.com/JohnUrban/Bcop_v2\n",
    "### Updates to it will be hosted at: https://github.com/JohnUrban/EGGS\n",
    "##############################################################################################"
   ]
  },
  {
   "cell_type": "code",
   "execution_count": 1,
   "metadata": {},
   "outputs": [
    {
     "name": "stderr",
     "output_type": "stream",
     "text": [
      "/Users/jurban/software/conda/anaconda3/lib/python3.8/site-packages/pandas/core/computation/expressions.py:20: UserWarning: Pandas requires version '2.7.3' or newer of 'numexpr' (version '2.7.1' currently installed).\n",
      "  from pandas.core.computation.check import NUMEXPR_INSTALLED\n"
     ]
    }
   ],
   "source": [
    "import os, sys\n",
    "from collections import defaultdict\n",
    "import numpy as np\n",
    "import pandas as pd\n",
    "import matplotlib\n",
    "import matplotlib.pyplot as plt\n",
    "import seaborn as sns\n",
    "from collections import Counter\n",
    "import importlib\n",
    "from scipy.cluster.hierarchy import linkage, dendrogram, optimal_leaf_ordering\n",
    "\n",
    "\n",
    "# importlib.reload()"
   ]
  },
  {
   "cell_type": "markdown",
   "metadata": {},
   "source": [
    "### Check PWD"
   ]
  },
  {
   "cell_type": "code",
   "execution_count": 2,
   "metadata": {},
   "outputs": [
    {
     "name": "stdout",
     "output_type": "stream",
     "text": [
      "/Users/jurban/software/Bcop_v2/dev/EGGS/EGGS\n"
     ]
    }
   ],
   "source": [
    "!pwd"
   ]
  },
  {
   "cell_type": "markdown",
   "metadata": {},
   "source": [
    "# Add EGGS functions to PATH, and import them."
   ]
  },
  {
   "cell_type": "code",
   "execution_count": 4,
   "metadata": {},
   "outputs": [],
   "source": [
    "sys.path.insert(0, \"/Users/jurban/software/Bcop_v2/EGGS/EGGS\")       "
   ]
  },
  {
   "cell_type": "markdown",
   "metadata": {},
   "source": [
    "## Import"
   ]
  },
  {
   "cell_type": "code",
   "execution_count": 5,
   "metadata": {},
   "outputs": [],
   "source": [
    "from EGGS import *"
   ]
  },
  {
   "cell_type": "code",
   "execution_count": 6,
   "metadata": {},
   "outputs": [],
   "source": [
    "import EGGS\n",
    "importlib.reload( EGGS )\n",
    "from EGGS import *"
   ]
  },
  {
   "cell_type": "code",
   "execution_count": 7,
   "metadata": {},
   "outputs": [
    {
     "data": {
      "text/plain": [
       "'1.0.0'"
      ]
     },
     "execution_count": 7,
     "metadata": {},
     "output_type": "execute_result"
    }
   ],
   "source": [
    "version\n"
   ]
  },
  {
   "cell_type": "code",
   "execution_count": 8,
   "metadata": {},
   "outputs": [
    {
     "name": "stdout",
     "output_type": "stream",
     "text": [
      "\n",
      "Current Version: 1.0.0\n",
      "\n",
      "Author: John M. Urban.\n",
      "\n",
      "version 1.0\n",
      "- Needed functions for reproducing Bcop_v2 paper EGGS analyses were copied from John Urban's orthoChainLinkerUtilities.py version 0.4.0.\n",
      "\n",
      "\n",
      "\n"
     ]
    }
   ],
   "source": [
    "print(help_string)"
   ]
  },
  {
   "cell_type": "code",
   "execution_count": 9,
   "metadata": {},
   "outputs": [],
   "source": []
  },
  {
   "cell_type": "markdown",
   "metadata": {},
   "source": [
    "# Set up some variables and parameters"
   ]
  },
  {
   "cell_type": "code",
   "execution_count": 15,
   "metadata": {},
   "outputs": [],
   "source": [
    "spp     = [\"bcop\",\"bhyg\",\"aedes\",\"anoph\",\"dmel\"]\n",
    "nspp    = len(spp)\n",
    "input1  = \"proteomes/OrthoFinder/Results_Oct10/Orthogroups/Orthogroups_SingleCopyOrthologues.tsv\"\n",
    "chrlist = ('X','II','III','IV','X','A','B','C', 'chr2L', 'chr2R', 'chr3L','chr3R','chr4','chrX', 'chr1','chr2','chr3')\n",
    "pseudo  = 0.1"
   ]
  },
  {
   "cell_type": "code",
   "execution_count": 16,
   "metadata": {},
   "outputs": [
    {
     "data": {
      "text/plain": [
       "array([[0., 0., 0., 0., 0.],\n",
       "       [0., 0., 0., 0., 0.],\n",
       "       [0., 0., 0., 0., 0.],\n",
       "       [0., 0., 0., 0., 0.],\n",
       "       [0., 0., 0., 0., 0.]])"
      ]
     },
     "execution_count": 16,
     "metadata": {},
     "output_type": "execute_result"
    }
   ],
   "source": [
    "ObsJointEntropyMat = np.zeros([nspp,nspp])\n",
    "ExpJointEntropyMat = np.zeros([nspp,nspp])\n",
    "MMNEp = np.zeros([nspp,nspp])\n",
    "MMNE = np.zeros([nspp,nspp])\n",
    "MMNE"
   ]
  },
  {
   "cell_type": "code",
   "execution_count": 17,
   "metadata": {},
   "outputs": [],
   "source": [
    "spaf_dict = {}"
   ]
  },
  {
   "cell_type": "code",
   "execution_count": null,
   "metadata": {},
   "outputs": [],
   "source": []
  },
  {
   "cell_type": "markdown",
   "metadata": {},
   "source": [
    "# Run loop over all pairwise species comparisons to compute various entropy scores.\n",
    "- This code does brute force redundant computations since the pair A,B is the same as the pair B,A.\n",
    "- It does this here simply to show that it behaves as expected, producing the same various entropy scores in both directions.\n",
    "- See more efficient loop at the end that skips redundant calculations.\n",
    "- Due to various overflow/underflow issues, the results slightly differ, but only by differences <1e-15."
   ]
  },
  {
   "cell_type": "code",
   "execution_count": 18,
   "metadata": {},
   "outputs": [
    {
     "name": "stdout",
     "output_type": "stream",
     "text": [
      "Processing bcop vs bcop ...\n",
      "Processing bcop vs bhyg ...\n",
      "Processing bcop vs aedes ...\n",
      "Processing bcop vs anoph ...\n",
      "Processing bcop vs dmel ...\n",
      "Processing bhyg vs bcop ...\n",
      "Processing bhyg vs bhyg ...\n",
      "Processing bhyg vs aedes ...\n",
      "Processing bhyg vs anoph ...\n",
      "Processing bhyg vs dmel ...\n",
      "Processing aedes vs bcop ...\n",
      "Processing aedes vs bhyg ...\n",
      "Processing aedes vs aedes ...\n",
      "Processing aedes vs anoph ...\n",
      "Processing aedes vs dmel ...\n",
      "Processing anoph vs bcop ...\n",
      "Processing anoph vs bhyg ...\n",
      "Processing anoph vs aedes ...\n",
      "Processing anoph vs anoph ...\n",
      "Processing anoph vs dmel ...\n",
      "Processing dmel vs bcop ...\n",
      "Processing dmel vs bhyg ...\n",
      "Processing dmel vs aedes ...\n",
      "Processing dmel vs anoph ...\n",
      "Processing dmel vs dmel ...\n"
     ]
    },
    {
     "data": {
      "text/plain": [
       "array([[0.00209206, 0.10326666, 0.64949466, 0.74419566, 0.86497917],\n",
       "       [0.10326666, 0.00239775, 0.64891403, 0.74387462, 0.86113221],\n",
       "       [0.64949466, 0.64891403, 0.00137171, 0.81010903, 0.88569169],\n",
       "       [0.74419566, 0.74387462, 0.81010903, 0.00157597, 0.86695698],\n",
       "       [0.86497917, 0.86113221, 0.88569169, 0.86695698, 0.00252544]])"
      ]
     },
     "execution_count": 18,
     "metadata": {},
     "output_type": "execute_result"
    }
   ],
   "source": [
    "importlib.reload( EGGS )\n",
    "from EGGS import *\n",
    "pseudo  = 0.1\n",
    "chrlist = ('X','II','III','IV','X','A','B','C', 'chr2L', 'chr2R', 'chr3L','chr3R','chr4','chrX', 'chr1','chr2','chr3')\n",
    "\n",
    "for i in range(nspp):\n",
    "    for j in range(nspp): ## entropy is same result in both dir, so this could be \"for j in range(i,nspp)\"; and below can do mat[j,i] = mat[i,j]\n",
    "        ## Gather species info\n",
    "        pre1 = spp[i]\n",
    "        pre2 = spp[j]\n",
    "        print(\"Processing \" + pre1 + \" vs \" + pre2 + \" ...\")\n",
    "        \n",
    "        ## Construct SimplePaf\n",
    "        sp1 = SpeciesFiles(pre1, shared_dir=\"./\")\n",
    "        sp2 = SpeciesFiles(pre2, shared_dir=\"./\")\n",
    "        spaf = SimplePaf(sp1, \n",
    "                         sp2, \n",
    "                         input1, \n",
    "                         pseudo=pseudo,\n",
    "                         sp1_chr_names=chrlist,\n",
    "                         sp2_chr_names=chrlist,\n",
    "                         strip_sp1_names=True,\n",
    "                         strip_sp2_names=True)\n",
    "\n",
    "        ## Store SimplePaf object\n",
    "        spaf_dict[pre1+'_'+pre2] = spaf\n",
    "              \n",
    "        # Add to Matrixes\n",
    "        ## Observed Raw Entropy - just showing user how to get this, not for plots in paper.\n",
    "        ObsJointEntropyMat[i,j]      = spaf.get_joint_entropy()\n",
    "        ## Expected Raw Entropy - just showing user how to get this, not for plots in paper.\n",
    "        ExpJointEntropyMat[i,j]  = spaf.get_random_joint_entropy()\n",
    "        ## Min Max Normalized Entropy as computed for paper\n",
    "        MMNE[i,j] = spaf.get_joint_entropy_minmax_normalized_margin_approach()\n",
    "        ## Alternative computation to get Min Max Normalized Entropy as computed for paper\n",
    "        MMNEp[i,j] = spaf.get_joint_entropy_minmax_normalized_margin_approach_perfect()\n",
    "\n",
    "    \n",
    "    \n",
    "## show it\n",
    "MMNE"
   ]
  },
  {
   "cell_type": "markdown",
   "metadata": {},
   "source": [
    "## Both ways of computing MMNE above give same results"
   ]
  },
  {
   "cell_type": "code",
   "execution_count": 51,
   "metadata": {},
   "outputs": [],
   "source": [
    "MMNE_mat = MMNE ## Preserving this matrix to compare to \"efficient loop\" results far below.\n",
    "MMNEp_mat = MMNEp ## Preserving this matrix to compare to MMNE_mat next line below."
   ]
  },
  {
   "cell_type": "code",
   "execution_count": 52,
   "metadata": {},
   "outputs": [
    {
     "data": {
      "text/plain": [
       "array([[ True,  True,  True,  True,  True],\n",
       "       [ True,  True,  True,  True,  True],\n",
       "       [ True,  True,  True,  True,  True],\n",
       "       [ True,  True,  True,  True,  True],\n",
       "       [ True,  True,  True,  True,  True]])"
      ]
     },
     "execution_count": 52,
     "metadata": {},
     "output_type": "execute_result"
    }
   ],
   "source": [
    "(MMNE_mat-MMNEp_mat) < 1e-300"
   ]
  },
  {
   "cell_type": "code",
   "execution_count": null,
   "metadata": {},
   "outputs": [],
   "source": []
  },
  {
   "cell_type": "markdown",
   "metadata": {},
   "source": [
    "# Need to convert to Pandas DataFrames for clustermap and barplots below"
   ]
  },
  {
   "cell_type": "code",
   "execution_count": 53,
   "metadata": {},
   "outputs": [],
   "source": [
    "ObsJointEntropyMat  = pd.DataFrame(ObsJointEntropyMat, columns=spp, index=spp)\n",
    "ExpJointEntropyMat  = pd.DataFrame(ExpJointEntropyMat, columns=spp, index=spp)\n",
    "MMNE                = pd.DataFrame(MMNE, columns=spp, index=spp)\n",
    "MMNEp               = pd.DataFrame(MMNEp, columns=spp, index=spp)"
   ]
  },
  {
   "cell_type": "code",
   "execution_count": 61,
   "metadata": {},
   "outputs": [
    {
     "data": {
      "text/plain": [
       "[(0.267004, 0.004874, 0.329415, 1.0),\n",
       " (0.28229, 0.145912, 0.46151, 1.0),\n",
       " (0.185783, 0.704891, 0.485273, 1.0),\n",
       " (0.35236, 0.783011, 0.392636, 1.0),\n",
       " (0.647257, 0.8584, 0.209861, 1.0)]"
      ]
     },
     "execution_count": 61,
     "metadata": {},
     "output_type": "execute_result"
    }
   ],
   "source": [
    "cmap = matplotlib.cm.get_cmap('viridis',4192)\n",
    "MMNE_barplot_df = pd.DataFrame(dict(x=MMNE.columns,y=MMNE.iloc[0,:]))\n",
    "rgba = [cmap(e) for e in MMNE_barplot_df['y'] ]\n",
    "rgba"
   ]
  },
  {
   "cell_type": "markdown",
   "metadata": {},
   "source": []
  },
  {
   "cell_type": "code",
   "execution_count": null,
   "metadata": {},
   "outputs": [],
   "source": []
  },
  {
   "cell_type": "markdown",
   "metadata": {},
   "source": [
    "# Barplot from the paper"
   ]
  },
  {
   "cell_type": "code",
   "execution_count": 62,
   "metadata": {},
   "outputs": [
    {
     "data": {
      "image/png": "[encoded data removed]",
      "text/plain": [
       "<Figure size 2100x700 with 1 Axes>"
      ]
     },
     "metadata": {},
     "output_type": "display_data"
    }
   ],
   "source": [
    "sns.set_style(style=\"whitegrid\")\n",
    "\n",
    "sns.set_context(rc={\"grid.linewidth\":5})\n",
    "\n",
    "fig, ax = plt.subplots(nrows=1,ncols=1, figsize=(21,7))\n",
    "sns.barplot(data = MMNE_barplot_df, x='x', y='y', palette=rgba, ax = ax)\n",
    "\n",
    "\n",
    "plt.ylim(0, 1)\n",
    "plt.xlim(-0.5, 4.5)\n",
    "plt.ylabel(\"Min-Max Normalized Entropy Score\")\n",
    "plt.xlabel(\"-> Increasing entropic (and evolutionary) distance ->\")\n",
    "\n",
    "\n",
    "plt.tight_layout()\n",
    "# plt.savefig(\"barplot-gridlines-20231016.pdf\")\n",
    "# plt.savefig(\"barplot-gridlines-20231016.jpg\")"
   ]
  },
  {
   "cell_type": "code",
   "execution_count": null,
   "metadata": {},
   "outputs": [],
   "source": []
  },
  {
   "cell_type": "code",
   "execution_count": null,
   "metadata": {},
   "outputs": [],
   "source": []
  },
  {
   "cell_type": "code",
   "execution_count": null,
   "metadata": {},
   "outputs": [],
   "source": []
  },
  {
   "cell_type": "markdown",
   "metadata": {},
   "source": [
    "# ClusterMap / Dendrogram HeatMap from paper"
   ]
  },
  {
   "cell_type": "code",
   "execution_count": 58,
   "metadata": {},
   "outputs": [
    {
     "data": {
      "image/png": "[encoded data removed]",
      "text/plain": [
       "<Figure size 1000x1000 with 4 Axes>"
      ]
     },
     "metadata": {},
     "output_type": "display_data"
    }
   ],
   "source": [
    "row_col_links = linkage(MMNE, method=\"single\", metric=\"euclidean\")\n",
    "optord = optimal_leaf_ordering(row_col_links, MMNE)\n",
    "g = sns.clustermap(MMNE, \n",
    "                   row_linkage=optord, \n",
    "                   col_linkage=optord, \n",
    "                   cmap=\"viridis\", \n",
    "                   vmin=0, vmax=1, \n",
    "                   tree_kws=dict(linewidths=10)) \n",
    "# Flip the heatmap\n",
    "g.ax_heatmap.invert_yaxis()\n",
    "g.ax_heatmap.invert_xaxis()\n",
    "plt.show()"
   ]
  },
  {
   "cell_type": "code",
   "execution_count": null,
   "metadata": {},
   "outputs": [],
   "source": []
  },
  {
   "cell_type": "code",
   "execution_count": null,
   "metadata": {},
   "outputs": [],
   "source": []
  },
  {
   "cell_type": "code",
   "execution_count": null,
   "metadata": {},
   "outputs": [],
   "source": []
  },
  {
   "cell_type": "code",
   "execution_count": null,
   "metadata": {},
   "outputs": [],
   "source": []
  },
  {
   "cell_type": "code",
   "execution_count": null,
   "metadata": {},
   "outputs": [],
   "source": []
  },
  {
   "cell_type": "code",
   "execution_count": null,
   "metadata": {},
   "outputs": [],
   "source": []
  },
  {
   "cell_type": "code",
   "execution_count": null,
   "metadata": {},
   "outputs": [],
   "source": []
  },
  {
   "cell_type": "code",
   "execution_count": null,
   "metadata": {},
   "outputs": [],
   "source": []
  },
  {
   "cell_type": "code",
   "execution_count": null,
   "metadata": {},
   "outputs": [],
   "source": []
  },
  {
   "cell_type": "code",
   "execution_count": null,
   "metadata": {},
   "outputs": [],
   "source": []
  },
  {
   "cell_type": "code",
   "execution_count": null,
   "metadata": {},
   "outputs": [],
   "source": []
  },
  {
   "cell_type": "code",
   "execution_count": null,
   "metadata": {},
   "outputs": [],
   "source": []
  },
  {
   "cell_type": "code",
   "execution_count": null,
   "metadata": {},
   "outputs": [],
   "source": []
  },
  {
   "cell_type": "code",
   "execution_count": null,
   "metadata": {},
   "outputs": [],
   "source": []
  },
  {
   "cell_type": "code",
   "execution_count": null,
   "metadata": {},
   "outputs": [],
   "source": []
  },
  {
   "cell_type": "markdown",
   "metadata": {},
   "source": [
    "# More efficient loop over all pairwise species comparisons to compute various entropy scores.\n",
    "- This code does more efficient computations over all pairs since the pair A,B is the same as the pair B,A.\n",
    "- Due to various overflow/underflow issues, the results slightly differ, but only by differences <1e-15.\n",
    "- Variable names given \"e\" prefix to not write-over variables computed above, and denotes these are from the \"efficient\" loop."
   ]
  },
  {
   "cell_type": "code",
   "execution_count": 19,
   "metadata": {},
   "outputs": [],
   "source": [
    "eObsJointEntropyMat = np.zeros([nspp,nspp])\n",
    "eExpJointEntropyMat = np.zeros([nspp,nspp])\n",
    "eMMNEp = np.zeros([nspp,nspp])\n",
    "eMMNE = np.zeros([nspp,nspp])\n",
    "eMMNE\n",
    "espaf_dict = {}"
   ]
  },
  {
   "cell_type": "code",
   "execution_count": 22,
   "metadata": {},
   "outputs": [
    {
     "name": "stdout",
     "output_type": "stream",
     "text": [
      "Processing bcop vs bcop ...\n",
      "Processing bcop vs bhyg ...\n",
      "Processing bcop vs aedes ...\n",
      "Processing bcop vs anoph ...\n",
      "Processing bcop vs dmel ...\n",
      "Processing bhyg vs bhyg ...\n",
      "Processing bhyg vs aedes ...\n",
      "Processing bhyg vs anoph ...\n",
      "Processing bhyg vs dmel ...\n",
      "Processing aedes vs aedes ...\n",
      "Processing aedes vs anoph ...\n",
      "Processing aedes vs dmel ...\n",
      "Processing anoph vs anoph ...\n",
      "Processing anoph vs dmel ...\n",
      "Processing dmel vs dmel ...\n"
     ]
    },
    {
     "data": {
      "text/plain": [
       "array([[0.00209206, 0.10326666, 0.64949466, 0.74419566, 0.86497917],\n",
       "       [0.10326666, 0.00239775, 0.64891403, 0.74387462, 0.86113221],\n",
       "       [0.64949466, 0.64891403, 0.00137171, 0.81010903, 0.88569169],\n",
       "       [0.74419566, 0.74387462, 0.81010903, 0.00157597, 0.86695698],\n",
       "       [0.86497917, 0.86113221, 0.88569169, 0.86695698, 0.00252544]])"
      ]
     },
     "execution_count": 22,
     "metadata": {},
     "output_type": "execute_result"
    }
   ],
   "source": [
    "importlib.reload( EGGS )\n",
    "from EGGS import *\n",
    "pseudo  = 0.1\n",
    "chrlist = ('X','II','III','IV','X','A','B','C', 'chr2L', 'chr2R', 'chr3L','chr3R','chr4','chrX', 'chr1','chr2','chr3')\n",
    "\n",
    "for i in range(nspp):\n",
    "    for j in range(i, nspp): ## entropy is same result in both dir, so this could be \"for j in range(i,nspp)\"; and below can do mat[j,i] = mat[i,j]\n",
    "        ## Gather species info\n",
    "        pre1 = spp[i]\n",
    "        pre2 = spp[j]\n",
    "        print(\"Processing \" + pre1 + \" vs \" + pre2 + \" ...\")\n",
    "        \n",
    "        ## Construct SimplePaf\n",
    "        sp1 = SpeciesFiles(pre1, shared_dir=\"./\")\n",
    "        sp2 = SpeciesFiles(pre2, shared_dir=\"./\")\n",
    "        spaf = SimplePaf(sp1, \n",
    "                         sp2, \n",
    "                         input1, \n",
    "                         pseudo=pseudo,\n",
    "                         sp1_chr_names=chrlist,\n",
    "                         sp2_chr_names=chrlist,\n",
    "                         strip_sp1_names=True,\n",
    "                         strip_sp2_names=True)\n",
    "\n",
    "        ## Store SimplePaf object\n",
    "        espaf_dict[pre1+'_'+pre2] = spaf\n",
    "              \n",
    "        # Add to Matrixes\n",
    "        ## Observed Raw Entropy - just showing user how to get this, not for plots in paper.\n",
    "        eObsJointEntropyMat[i,j]      = spaf.get_joint_entropy()\n",
    "        eObsJointEntropyMat[j,i]      = spaf.get_joint_entropy()\n",
    "        ## Expected Raw Entropy - just showing user how to get this, not for plots in paper.\n",
    "        eExpJointEntropyMat[i,j]  = spaf.get_random_joint_entropy()\n",
    "        eExpJointEntropyMat[j,i]  = spaf.get_random_joint_entropy()\n",
    "        ## Min Max Normalized Entropy as computed for paper\n",
    "        eMMNE[i,j] = spaf.get_joint_entropy_minmax_normalized_margin_approach()\n",
    "        eMMNE[j,i] = spaf.get_joint_entropy_minmax_normalized_margin_approach()\n",
    "        ## Alternative computation to get Min Max Normalized Entropy as computed for paper\n",
    "        eMMNEp[i,j] = spaf.get_joint_entropy_minmax_normalized_margin_approach_perfect()\n",
    "        eMMNEp[j,i] = spaf.get_joint_entropy_minmax_normalized_margin_approach_perfect()\n",
    "\n",
    "    \n",
    "    \n",
    "## show it\n",
    "eMMNE"
   ]
  },
  {
   "cell_type": "markdown",
   "metadata": {},
   "source": [
    "# Differences between brute force and more efficient are all less than 0.000000000000001 (1e-15)"
   ]
  },
  {
   "cell_type": "code",
   "execution_count": 36,
   "metadata": {},
   "outputs": [
    {
     "data": {
      "text/plain": [
       "array([[ True,  True,  True,  True,  True],\n",
       "       [ True,  True,  True,  True,  True],\n",
       "       [ True,  True,  True,  True,  True],\n",
       "       [ True,  True,  True,  True,  True],\n",
       "       [ True,  True,  True,  True,  True]])"
      ]
     },
     "execution_count": 36,
     "metadata": {},
     "output_type": "execute_result"
    }
   ],
   "source": [
    "(MMNE_mat-eMMNE) < 1e-15"
   ]
  },
  {
   "cell_type": "code",
   "execution_count": null,
   "metadata": {},
   "outputs": [],
   "source": []
  }
 ],
 "metadata": {
  "kernelspec": {
   "display_name": "Python 3 (ipykernel)",
   "language": "python",
   "name": "python3"
  },
  "language_info": {
   "codemirror_mode": {
    "name": "ipython",
    "version": 3
   },
   "file_extension": ".py",
   "mimetype": "text/x-python",
   "name": "python",
   "nbconvert_exporter": "python",
   "pygments_lexer": "ipython3",
   "version": "3.8.12"
  }
 },
 "nbformat": 4,
 "nbformat_minor": 4
}
