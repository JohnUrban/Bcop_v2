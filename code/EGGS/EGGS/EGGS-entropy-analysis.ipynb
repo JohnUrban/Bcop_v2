{
 "cells": [
  {
   "cell_type": "code",
   "execution_count": 1,
   "metadata": {},
   "outputs": [
    {
     "name": "stderr",
     "output_type": "stream",
     "text": [
      "/Users/jurban/software/conda/anaconda3/lib/python3.8/site-packages/pandas/core/computation/expressions.py:20: UserWarning: Pandas requires version '2.7.3' or newer of 'numexpr' (version '2.7.1' currently installed).\n",
      "  from pandas.core.computation.check import NUMEXPR_INSTALLED\n"
     ]
    }
   ],
   "source": [
    "import os, sys\n",
    "from collections import defaultdict\n",
    "import numpy as np\n",
    "import pandas as pd\n",
    "import matplotlib\n",
    "import matplotlib.pyplot as plt\n",
    "import seaborn as sns\n",
    "from collections import Counter\n",
    "import importlib\n",
    "# importlib.reload()"
   ]
  },
  {
   "cell_type": "markdown",
   "metadata": {},
   "source": [
    "### Check PWD"
   ]
  },
  {
   "cell_type": "code",
   "execution_count": 2,
   "metadata": {},
   "outputs": [
    {
     "name": "stdout",
     "output_type": "stream",
     "text": [
      "/Users/jurban/software/Bcop_v2/dev/EGGS/EGGS\n"
     ]
    }
   ],
   "source": [
    "!pwd"
   ]
  },
  {
   "cell_type": "markdown",
   "metadata": {},
   "source": [
    "# Add EGGS functions to PATH, and import them."
   ]
  },
  {
   "cell_type": "code",
   "execution_count": 3,
   "metadata": {},
   "outputs": [],
   "source": [
    "sys.path.insert(0, \"/Users/jurban/software/Bcop_v2/EGGS/EGGS\")       "
   ]
  },
  {
   "cell_type": "markdown",
   "metadata": {},
   "source": [
    "## Import"
   ]
  },
  {
   "cell_type": "code",
   "execution_count": 4,
   "metadata": {},
   "outputs": [],
   "source": [
    "from EGGS import *"
   ]
  },
  {
   "cell_type": "code",
   "execution_count": 5,
   "metadata": {},
   "outputs": [],
   "source": [
    "import EGGS\n",
    "importlib.reload( EGGS )\n",
    "from EGGS import *"
   ]
  },
  {
   "cell_type": "code",
   "execution_count": 6,
   "metadata": {},
   "outputs": [
    {
     "data": {
      "text/plain": [
       "'1.0.0'"
      ]
     },
     "execution_count": 6,
     "metadata": {},
     "output_type": "execute_result"
    }
   ],
   "source": [
    "version\n"
   ]
  },
  {
   "cell_type": "code",
   "execution_count": 7,
   "metadata": {},
   "outputs": [
    {
     "name": "stdout",
     "output_type": "stream",
     "text": [
      "\n",
      "Current Version: 1.0.0\n",
      "\n",
      "Author: John M. Urban.\n",
      "\n",
      "version 1.0\n",
      "- Needed functions for reproducing Bcop_v2 paper EGGS analyses were copied from John Urban's orthoChainLinkerUtilities.py version 0.4.0.\n",
      "\n",
      "\n",
      "\n"
     ]
    }
   ],
   "source": [
    "print(help_string)"
   ]
  },
  {
   "cell_type": "code",
   "execution_count": 8,
   "metadata": {},
   "outputs": [],
   "source": [
    "importlib.reload( EGGS )\n",
    "from EGGS import *"
   ]
  },
  {
   "cell_type": "code",
   "execution_count": null,
   "metadata": {},
   "outputs": [],
   "source": []
  },
  {
   "cell_type": "code",
   "execution_count": 9,
   "metadata": {},
   "outputs": [],
   "source": [
    "spp     = [\"bcop\",\"bhyg\",\"aedes\",\"anoph\",\"dmel\"]\n",
    "nspp    = len(spp)\n",
    "input1  = \"proteomes/OrthoFinder/Results_Oct10/Orthogroups/Orthogroups_SingleCopyOrthologues.tsv\"\n",
    "chrlist = ('X','II','III','IV','X','A','B','C', 'chr2L', 'chr2R', 'chr3L','chr3R','chr4','chrX', 'chr1','chr2','chr3')\n",
    "pseudo  = 0.1"
   ]
  },
  {
   "cell_type": "code",
   "execution_count": 10,
   "metadata": {},
   "outputs": [
    {
     "data": {
      "text/plain": [
       "array([[0., 0., 0., 0., 0.],\n",
       "       [0., 0., 0., 0., 0.],\n",
       "       [0., 0., 0., 0., 0.],\n",
       "       [0., 0., 0., 0., 0.],\n",
       "       [0., 0., 0., 0., 0.]])"
      ]
     },
     "execution_count": 10,
     "metadata": {},
     "output_type": "execute_result"
    }
   ],
   "source": [
    "mat      = np.zeros([nspp,nspp])\n",
    "randmat  = np.zeros([nspp,nspp])\n",
    "normmat  = np.zeros([nspp,nspp])\n",
    "normmat2 = np.zeros([nspp,nspp])\n",
    "normmat3 = np.zeros([nspp,nspp])\n",
    "normmat4 = np.zeros([nspp,nspp])\n",
    "normmat5 = np.zeros([nspp,nspp])\n",
    "mat"
   ]
  },
  {
   "cell_type": "code",
   "execution_count": 11,
   "metadata": {},
   "outputs": [],
   "source": [
    "spaf_dict = {}"
   ]
  },
  {
   "cell_type": "code",
   "execution_count": null,
   "metadata": {},
   "outputs": [],
   "source": []
  },
  {
   "cell_type": "code",
   "execution_count": null,
   "metadata": {},
   "outputs": [],
   "source": []
  },
  {
   "cell_type": "code",
   "execution_count": 71,
   "metadata": {},
   "outputs": [
    {
     "name": "stdout",
     "output_type": "stream",
     "text": [
      "Processing bcop vs bcop ...\n",
      "Processing bcop vs bhyg ...\n",
      "Processing bcop vs aedes ...\n",
      "Processing bcop vs anoph ...\n",
      "Processing bcop vs dmel ...\n",
      "Processing bhyg vs bcop ...\n",
      "Processing bhyg vs bhyg ...\n",
      "Processing bhyg vs aedes ...\n",
      "Processing bhyg vs anoph ...\n",
      "Processing bhyg vs dmel ...\n",
      "Processing aedes vs bcop ...\n",
      "Processing aedes vs bhyg ...\n",
      "Processing aedes vs aedes ...\n",
      "Processing aedes vs anoph ...\n",
      "Processing aedes vs dmel ...\n",
      "Processing anoph vs bcop ...\n",
      "Processing anoph vs bhyg ...\n",
      "Processing anoph vs aedes ...\n",
      "Processing anoph vs anoph ...\n",
      "Processing anoph vs dmel ...\n",
      "Processing dmel vs bcop ...\n",
      "Processing dmel vs bhyg ...\n",
      "Processing dmel vs aedes ...\n",
      "Processing dmel vs anoph ...\n",
      "Processing dmel vs dmel ...\n"
     ]
    }
   ],
   "source": [
    "importlib.reload( EGGS )\n",
    "from EGGS import *\n",
    "pseudo  = 0.1\n",
    "chrlist = ('X','II','III','IV','X','A','B','C', 'chr2L', 'chr2R', 'chr3L','chr3R','chr4','chrX', 'chr1','chr2','chr3')\n",
    "\n",
    "for i in range(nspp):\n",
    "    for j in range(nspp): ## entropy is same result in both dir, so this could be \"for j in range(i,nspp)\"; and below can do mat[j,i] = mat[i,j]\n",
    "        ## Gather species info\n",
    "        pre1 = spp[i]\n",
    "        pre2 = spp[j]\n",
    "        print(\"Processing \" + pre1 + \" vs \" + pre2 + \" ...\")\n",
    "        \n",
    "        ## Construct SimplePaf\n",
    "        sp1 = SpeciesFiles(pre1, shared_dir=\"./\")\n",
    "        sp2 = SpeciesFiles(pre2, shared_dir=\"./\")\n",
    "        spaf = SimplePaf(sp1, \n",
    "                         sp2, \n",
    "                         input1, \n",
    "                         pseudo=pseudo,\n",
    "                         sp1_chr_names=chrlist,\n",
    "                         sp2_chr_names=chrlist,\n",
    "                         strip_sp1_names=True,\n",
    "                         strip_sp2_names=True)\n",
    "\n",
    "        ## Store SimplePaf object\n",
    "        spaf_dict[pre1+'_'+pre2] = spaf\n",
    "              \n",
    "        # Add to Matrixes\n",
    "        mat[i,j]      = spaf.get_joint_entropy()\n",
    "        randmat[i,j]  = spaf.get_random_joint_entropy()\n",
    "        normmat[i,j]  = spaf.get_joint_entropy_relative_to_max()\n",
    "        normmat2[i,j] = spaf.get_joint_expected_surprisal_normalized_to_random()\n",
    "        normmat3[i,j] = spaf.get_joint_entropy_minmax_normalized_joint_approach()\n",
    "        normmat4[i,j] = spaf.get_joint_entropy_minmax_normalized_margin_approach()\n",
    "        normmat5[i,j] = spaf.get_joint_entropy_minmax_normalized_margin_approach_perfect()\n",
    "\n",
    "    \n",
    "    \n",
    "## show it\n",
    "mat"
   ]
  },
  {
   "cell_type": "code",
   "execution_count": null,
   "metadata": {},
   "outputs": [],
   "source": []
  },
  {
   "cell_type": "code",
   "execution_count": null,
   "metadata": {},
   "outputs": [],
   "source": []
  },
  {
   "cell_type": "markdown",
   "metadata": {},
   "source": [
    "# Currently working this out to generalize and reproduce from scratch rather than hard-coded stuff. Stand by. "
   ]
  },
  {
   "cell_type": "code",
   "execution_count": null,
   "metadata": {},
   "outputs": [],
   "source": []
  }
 ],
 "metadata": {
  "kernelspec": {
   "display_name": "Python 3 (ipykernel)",
   "language": "python",
   "name": "python3"
  },
  "language_info": {
   "codemirror_mode": {
    "name": "ipython",
    "version": 3
   },
   "file_extension": ".py",
   "mimetype": "text/x-python",
   "name": "python",
   "nbconvert_exporter": "python",
   "pygments_lexer": "ipython3",
   "version": "3.8.12"
  }
 },
 "nbformat": 4,
 "nbformat_minor": 4
}
