{
 "cells": [
  {
   "cell_type": "code",
   "execution_count": 1,
   "metadata": {},
   "outputs": [
    {
     "name": "stderr",
     "output_type": "stream",
     "text": [
      "/Users/jurban/software/conda/anaconda3/lib/python3.8/site-packages/pandas/core/computation/expressions.py:20: UserWarning: Pandas requires version '2.7.3' or newer of 'numexpr' (version '2.7.1' currently installed).\n",
      "  from pandas.core.computation.check import NUMEXPR_INSTALLED\n"
     ]
    }
   ],
   "source": [
    "import os, sys\n",
    "from collections import defaultdict\n",
    "import numpy as np\n",
    "import pandas as pd\n",
    "import matplotlib.pyplot as plt\n",
    "import seaborn as sns\n",
    "from collections import Counter\n",
    "import importlib\n",
    "# importlib.reload()"
   ]
  },
  {
   "cell_type": "markdown",
   "metadata": {},
   "source": [
    "### Check PWD"
   ]
  },
  {
   "cell_type": "code",
   "execution_count": 2,
   "metadata": {},
   "outputs": [
    {
     "name": "stdout",
     "output_type": "stream",
     "text": [
      "/Users/jurban/software/Bcop_v2/dev/EGGS/EGGS\n"
     ]
    }
   ],
   "source": [
    "!pwd"
   ]
  },
  {
   "cell_type": "markdown",
   "metadata": {},
   "source": [
    "# Add EGGS functions to PATH, and import them."
   ]
  },
  {
   "cell_type": "code",
   "execution_count": 3,
   "metadata": {},
   "outputs": [],
   "source": [
    "sys.path.insert(0, \"/Users/jurban/software/Bcop_v2/dev/EGGS/EGGS\")       "
   ]
  },
  {
   "cell_type": "markdown",
   "metadata": {},
   "source": [
    "##### Import"
   ]
  },
  {
   "cell_type": "code",
   "execution_count": 4,
   "metadata": {},
   "outputs": [],
   "source": [
    "from EGGS import *"
   ]
  },
  {
   "cell_type": "code",
   "execution_count": null,
   "metadata": {},
   "outputs": [],
   "source": []
  },
  {
   "cell_type": "code",
   "execution_count": 5,
   "metadata": {},
   "outputs": [
    {
     "data": {
      "text/plain": [
       "'1.0.0'"
      ]
     },
     "execution_count": 5,
     "metadata": {},
     "output_type": "execute_result"
    }
   ],
   "source": [
    "version\n"
   ]
  },
  {
   "cell_type": "code",
   "execution_count": 6,
   "metadata": {},
   "outputs": [
    {
     "name": "stdout",
     "output_type": "stream",
     "text": [
      "\n",
      "Current Version: 1.0.0\n",
      "\n",
      "Author: John M. Urban.\n",
      "\n",
      "version 1.0\n",
      "- Needed functions for reproducing Bcop_v2 paper EGGS analyses were copied from John Urban's orthoChainLinkerUtilities.py version 0.4.0.\n",
      "\n",
      "\n",
      "\n"
     ]
    }
   ],
   "source": [
    "print(help_string)"
   ]
  },
  {
   "cell_type": "code",
   "execution_count": null,
   "metadata": {},
   "outputs": [],
   "source": []
  },
  {
   "cell_type": "markdown",
   "metadata": {},
   "source": [
    "# Use wrapper pipeline script to make the PAFs and write them out"
   ]
  },
  {
   "cell_type": "markdown",
   "metadata": {},
   "source": [
    "# Get all pairwise PAFs (w/r/t Bcop) and write out for further analysis in R."
   ]
  },
  {
   "cell_type": "markdown",
   "metadata": {},
   "source": [
    "## Bcop v Dmel"
   ]
  },
  {
   "cell_type": "code",
   "execution_count": 15,
   "metadata": {},
   "outputs": [],
   "source": [
    "input1 = \"proteomes/OrthoFinder/Results_Oct10/Orthogroups/Orthogroups_SingleCopyOrthologues.tsv\"\n",
    "input2A = \"Bcop-SCOs.bed\"\n",
    "input2B = \"Dmel-SCOs.bed\"\n",
    "input3A = \"Bcop-SCOs.txt\"\n",
    "input3B = \"Dmel-SCOs.txt\"\n",
    "input4A = \"shared_files/bcop.genome\"\n",
    "input4B = \"shared_files/dmel.genome\"\n",
    "\n",
    "bcop_dmel_paf = get_simple_paf_format_direct_from_input_files(input1 = input1,\n",
    "                                                              input2A = input2A,\n",
    "                                                              input2B = input2B, \n",
    "                                                              input3A = input3A, \n",
    "                                                              input3B = input3B,\n",
    "                                                              input4A = input4A, \n",
    "                                                              input4B = input4B, \n",
    "                                                              A_id=\"bcop\", \n",
    "                                                              B_id=\"dmel\")"
   ]
  },
  {
   "cell_type": "code",
   "execution_count": 16,
   "metadata": {},
   "outputs": [],
   "source": [
    "bcop_dmel_paf.to_csv(\"bcop_dmel.paf\", sep=\"\\t\", header=False, index=False)"
   ]
  },
  {
   "cell_type": "markdown",
   "metadata": {},
   "source": [
    "## Bcop vs Aedes"
   ]
  },
  {
   "cell_type": "code",
   "execution_count": 19,
   "metadata": {},
   "outputs": [],
   "source": [
    "input1 = \"proteomes/OrthoFinder/Results_Oct10/Orthogroups/Orthogroups_SingleCopyOrthologues.tsv\"\n",
    "input2A = \"Bcop-SCOs.bed\"\n",
    "input2B = \"Aedes-SCOs.bed\"\n",
    "input3A = \"Bcop-SCOs.txt\"\n",
    "input3B = \"Aedes-SCOs.txt\"\n",
    "input4A = \"shared_files/bcop.genome\"\n",
    "input4B = \"shared_files/aedes.genome\"\n",
    "bcop_aedes_paf = get_simple_paf_format_direct_from_input_files(input1 = input1,\n",
    "                                                              input2A = input2A,\n",
    "                                                              input2B = input2B, \n",
    "                                                              input3A = input3A, \n",
    "                                                              input3B = input3B,\n",
    "                                                              input4A = input4A, \n",
    "                                                              input4B = input4B, \n",
    "                                                              A_id=\"bcop\", \n",
    "                                                              B_id=\"aedes\")"
   ]
  },
  {
   "cell_type": "code",
   "execution_count": 20,
   "metadata": {},
   "outputs": [],
   "source": [
    "bcop_aedes_paf.to_csv(\"bcop_aedes.paf\", sep=\"\\t\", header=False, index=False)"
   ]
  },
  {
   "cell_type": "markdown",
   "metadata": {},
   "source": [
    "## Bcop vs Anopheles"
   ]
  },
  {
   "cell_type": "code",
   "execution_count": 21,
   "metadata": {},
   "outputs": [],
   "source": [
    "input1 = \"proteomes/OrthoFinder/Results_Oct10/Orthogroups/Orthogroups_SingleCopyOrthologues.tsv\"\n",
    "input2A = \"Bcop-SCOs.bed\"\n",
    "input2B = \"Anoph-SCOs.bed\"\n",
    "input3A = \"Bcop-SCOs.txt\"\n",
    "input3B = \"Anoph-SCOs.txt\"\n",
    "input4A = \"shared_files/bcop.genome\"\n",
    "input4B = \"shared_files/anoph.genome\"\n",
    "bcop_anoph_paf = get_simple_paf_format_direct_from_input_files(input1 = input1,\n",
    "                                                              input2A = input2A,\n",
    "                                                              input2B = input2B, \n",
    "                                                              input3A = input3A, \n",
    "                                                              input3B = input3B,\n",
    "                                                              input4A = input4A, \n",
    "                                                              input4B = input4B, \n",
    "                                                              A_id=\"bcop\", \n",
    "                                                              B_id=\"anoph\")\n",
    "\n"
   ]
  },
  {
   "cell_type": "code",
   "execution_count": 22,
   "metadata": {},
   "outputs": [],
   "source": [
    "bcop_anoph_paf.to_csv(\"bcop_anoph.paf\", sep=\"\\t\", header=False, index=False)"
   ]
  },
  {
   "cell_type": "markdown",
   "metadata": {},
   "source": [
    "## Bcop vs Bhyg"
   ]
  },
  {
   "cell_type": "code",
   "execution_count": 23,
   "metadata": {},
   "outputs": [],
   "source": [
    "input1 = \"proteomes/OrthoFinder/Results_Oct10/Orthogroups/Orthogroups_SingleCopyOrthologues.tsv\"\n",
    "input2A = \"Bcop-SCOs.bed\"\n",
    "input2B = \"Bhyg-SCOs.bed\"\n",
    "input3A = \"Bcop-SCOs.txt\"\n",
    "input3B = \"Bhyg-SCOs.txt\"\n",
    "input4A = \"shared_files/bcop.genome\"\n",
    "input4B = \"shared_files/bhyg.genome\"\n",
    "\n",
    "bcop_bhyg_paf = get_simple_paf_format_direct_from_input_files(input1 = input1,\n",
    "                                                              input2A = input2A,\n",
    "                                                              input2B = input2B, \n",
    "                                                              input3A = input3A, \n",
    "                                                              input3B = input3B,\n",
    "                                                              input4A = input4A, \n",
    "                                                              input4B = input4B, \n",
    "                                                              A_id=\"bcop\", \n",
    "                                                              B_id=\"bhyg\")"
   ]
  },
  {
   "cell_type": "code",
   "execution_count": 24,
   "metadata": {},
   "outputs": [],
   "source": [
    "bcop_bhyg_paf.to_csv(\"bcop_bhyg.paf\", sep=\"\\t\", header=False, index=False)"
   ]
  },
  {
   "cell_type": "markdown",
   "metadata": {},
   "source": [
    "# Stats"
   ]
  },
  {
   "cell_type": "code",
   "execution_count": 25,
   "metadata": {},
   "outputs": [
    {
     "data": {
      "text/plain": [
       "chr_bcop               chr_dmel\n",
       "II                     chr2L        41\n",
       "                       chr2R        74\n",
       "                       chr3L       164\n",
       "                       chr3R       359\n",
       "                       chr4          1\n",
       "                       chrX        247\n",
       "III                    chr2L        43\n",
       "                       chr2R       432\n",
       "                       chr3L       420\n",
       "                       chr3R        76\n",
       "                       chr4         29\n",
       "                       chrX         50\n",
       "IV                     chr2L       621\n",
       "                       chr2R       325\n",
       "                       chr3L       240\n",
       "                       chr3R        82\n",
       "                       chr4          1\n",
       "                       chrX         76\n",
       "X                      chr2L        74\n",
       "                       chr2R        57\n",
       "                       chr3L        50\n",
       "                       chr3R       523\n",
       "                       chr4          1\n",
       "                       chrX        298\n",
       "associated_contig_138  chr2L         1\n",
       "associated_contig_141  chr3R         1\n",
       "associated_contig_144  chr3L         1\n",
       "associated_contig_145  chrX          3\n",
       "associated_contig_2    chr3L         1\n",
       "                       chrX          1\n",
       "associated_contig_243  chrX          1\n",
       "associated_contig_251  chr3R         2\n",
       "associated_contig_3    chr2R         1\n",
       "associated_contig_348  chr3L         1\n",
       "dtype: int64"
      ]
     },
     "execution_count": 25,
     "metadata": {},
     "output_type": "execute_result"
    }
   ],
   "source": [
    "bcop_dmel_paf.groupby(['chr_bcop','chr_dmel']).size() #.sort_values(ascending=False)"
   ]
  },
  {
   "cell_type": "code",
   "execution_count": 26,
   "metadata": {},
   "outputs": [
    {
     "data": {
      "text/plain": [
       "chr_bcop               chr_aedes     \n",
       "II                     chr1               44\n",
       "                       chr2              116\n",
       "                       chr3              726\n",
       "III                    NW_018734918.1      1\n",
       "                       chr1               70\n",
       "                       chr2              893\n",
       "                       chr3               86\n",
       "IV                     chr1               61\n",
       "                       chr2              682\n",
       "                       chr3              602\n",
       "X                      NW_018735977.1      1\n",
       "                       NW_018736279.1      1\n",
       "                       chr1              836\n",
       "                       chr2               75\n",
       "                       chr3               90\n",
       "associated_contig_138  chr2                1\n",
       "associated_contig_141  chr1                1\n",
       "associated_contig_144  chr1                1\n",
       "associated_contig_145  NW_018736447.1      1\n",
       "                       chr1                2\n",
       "associated_contig_2    chr3                2\n",
       "associated_contig_243  chr3                1\n",
       "associated_contig_251  chr1                2\n",
       "associated_contig_3    chr2                1\n",
       "associated_contig_348  chr2                1\n",
       "dtype: int64"
      ]
     },
     "execution_count": 26,
     "metadata": {},
     "output_type": "execute_result"
    }
   ],
   "source": [
    "bcop_aedes_paf.groupby(['chr_bcop','chr_aedes']).size() #.sort_values(ascending=False)"
   ]
  },
  {
   "cell_type": "code",
   "execution_count": 27,
   "metadata": {},
   "outputs": [
    {
     "data": {
      "text/plain": [
       "chr_bcop               chr_anoph  \n",
       "II                     NW_045357.1      1\n",
       "                       NW_045523.1      1\n",
       "                       NW_045791.1      1\n",
       "                       NW_045817.1      1\n",
       "                       chr2L          111\n",
       "                       chr2R          632\n",
       "                       chr3L           66\n",
       "                       chr3R           58\n",
       "                       chrX            15\n",
       "III                    NW_045748.1      1\n",
       "                       NW_164790.1      1\n",
       "                       chr2L          752\n",
       "                       chr2R           87\n",
       "                       chr3L           42\n",
       "                       chr3R          139\n",
       "                       chrX            28\n",
       "IV                     NW_044686.1      1\n",
       "                       NW_045165.1      1\n",
       "                       NW_045222.1      1\n",
       "                       NW_045274.1      1\n",
       "                       NW_045524.1      2\n",
       "                       NW_045535.1      1\n",
       "                       NW_045672.1      1\n",
       "                       NW_045706.1      2\n",
       "                       NW_045814.1      1\n",
       "                       NW_045824.1      1\n",
       "                       NW_157506.1      1\n",
       "                       NW_157532.1      1\n",
       "                       chr2L           82\n",
       "                       chr2R          144\n",
       "                       chr3L          472\n",
       "                       chr3R          617\n",
       "                       chrX            16\n",
       "X                      NW_045548.1      1\n",
       "                       NW_045684.1      1\n",
       "                       NW_045782.1      3\n",
       "                       NW_045810.1      1\n",
       "                       chr2L           73\n",
       "                       chr2R          468\n",
       "                       chr3L           54\n",
       "                       chr3R           55\n",
       "                       chrX           347\n",
       "associated_contig_138  chr3R            1\n",
       "associated_contig_141  chrX             1\n",
       "associated_contig_144  chrX             1\n",
       "associated_contig_145  chrX             3\n",
       "associated_contig_2    chr2R            2\n",
       "associated_contig_243  chr3L            1\n",
       "associated_contig_251  chr2R            2\n",
       "associated_contig_3    chr2L            1\n",
       "associated_contig_348  chr2L            1\n",
       "dtype: int64"
      ]
     },
     "execution_count": 27,
     "metadata": {},
     "output_type": "execute_result"
    }
   ],
   "source": [
    "bcop_anoph_paf.groupby(['chr_bcop','chr_anoph']).size() #.sort_values(ascending=False)"
   ]
  },
  {
   "cell_type": "markdown",
   "metadata": {},
   "source": [
    "### Write out"
   ]
  },
  {
   "cell_type": "code",
   "execution_count": null,
   "metadata": {},
   "outputs": [],
   "source": []
  },
  {
   "cell_type": "code",
   "execution_count": 19,
   "metadata": {},
   "outputs": [],
   "source": []
  },
  {
   "cell_type": "code",
   "execution_count": 20,
   "metadata": {},
   "outputs": [],
   "source": []
  },
  {
   "cell_type": "code",
   "execution_count": null,
   "metadata": {},
   "outputs": [],
   "source": []
  }
 ],
 "metadata": {
  "kernelspec": {
   "display_name": "Python 3 (ipykernel)",
   "language": "python",
   "name": "python3"
  },
  "language_info": {
   "codemirror_mode": {
    "name": "ipython",
    "version": 3
   },
   "file_extension": ".py",
   "mimetype": "text/x-python",
   "name": "python",
   "nbconvert_exporter": "python",
   "pygments_lexer": "ipython3",
   "version": "3.8.12"
  }
 },
 "nbformat": 4,
 "nbformat_minor": 4
}
